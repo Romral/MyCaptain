{
 "cells": [
  {
   "cell_type": "code",
   "execution_count": 6,
   "metadata": {},
   "outputs": [
    {
     "name": "stdout",
     "output_type": "stream",
     "text": [
      "Enter the range:6\n",
      "1\n",
      "2\n",
      "3\n",
      "-4\n",
      "-5\n",
      "6\n",
      "List: [1, 2, 3, -4, -5, 6]\n",
      "Upadated List: [1, 2, 3, 6]\n"
     ]
    }
   ],
   "source": [
    "#Print all positive numbers in a range:\n",
    "li=[]\n",
    "li1=[]\n",
    "rng=int(input(\"Enter the range:\"))\n",
    "for i in range(rng):\n",
    "    item=int(input())\n",
    "    li.append(item)\n",
    "    if li[i]>0:\n",
    "        li1.append(li[i]);\n",
    "print(\"List:\",li)\n",
    "print(\"Upadated List:\",li1)"
   ]
  },
  {
   "cell_type": "code",
   "execution_count": null,
   "metadata": {},
   "outputs": [],
   "source": []
  }
 ],
 "metadata": {
  "kernelspec": {
   "display_name": "Python 3",
   "language": "python",
   "name": "python3"
  },
  "language_info": {
   "codemirror_mode": {
    "name": "ipython",
    "version": 3
   },
   "file_extension": ".py",
   "mimetype": "text/x-python",
   "name": "python",
   "nbconvert_exporter": "python",
   "pygments_lexer": "ipython3",
   "version": "3.7.3"
  }
 },
 "nbformat": 4,
 "nbformat_minor": 2
}
