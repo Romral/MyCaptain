{
 "cells": [
  {
   "cell_type": "code",
   "execution_count": 1,
   "metadata": {},
   "outputs": [
    {
     "name": "stdout",
     "output_type": "stream",
     "text": [
      "[1, 2.0, 'LIST1']\n",
      "[3, 4.9, 'LIST2']\n"
     ]
    }
   ],
   "source": [
    "#Assigning values to lists\n",
    "li1=[1,2.0,\"LIST1\"]\n",
    "li2=[3,4.9,\"LIST2\"]\n",
    "print(li1)\n",
    "print(li2)"
   ]
  },
  {
   "cell_type": "code",
   "execution_count": 2,
   "metadata": {},
   "outputs": [
    {
     "name": "stdout",
     "output_type": "stream",
     "text": [
      "(5, 6.0, 'Tuple')\n",
      "5 6.0 Tuple\n"
     ]
    }
   ],
   "source": [
    "#Accessing values from a Tuple\n",
    "tp=(5,6.0,\"Tuple\")\n",
    "print(tp)\n",
    "print(tp[0],tp[1],tp[2])"
   ]
  },
  {
   "cell_type": "code",
   "execution_count": 3,
   "metadata": {},
   "outputs": [
    {
     "name": "stdout",
     "output_type": "stream",
     "text": [
      "{'1': 'Ramesh', '2': 'Suresh', '3': 'Ram'}\n",
      "{'1': 'Ramesh', '2': 'Suresh'}\n"
     ]
    }
   ],
   "source": [
    "#Deleting from A Dictionary\n",
    "dict={\"1\":\"Ramesh\",\"2\":\"Suresh\",\"3\":\"Ram\"}\n",
    "print(dict)\n",
    "del dict[\"3\"]\n",
    "print(dict)"
   ]
  },
  {
   "cell_type": "code",
   "execution_count": null,
   "metadata": {},
   "outputs": [],
   "source": []
  }
 ],
 "metadata": {
  "kernelspec": {
   "display_name": "Python 3",
   "language": "python",
   "name": "python3"
  },
  "language_info": {
   "codemirror_mode": {
    "name": "ipython",
    "version": 3
   },
   "file_extension": ".py",
   "mimetype": "text/x-python",
   "name": "python",
   "nbconvert_exporter": "python",
   "pygments_lexer": "ipython3",
   "version": "3.7.3"
  }
 },
 "nbformat": 4,
 "nbformat_minor": 2
}
